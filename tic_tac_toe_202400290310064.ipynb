{
  "nbformat": 4,
  "nbformat_minor": 0,
  "metadata": {
    "colab": {
      "provenance": [],
      "authorship_tag": "ABX9TyPhDk2ZPeCAkQekf4u5oHBD",
      "include_colab_link": true
    },
    "kernelspec": {
      "name": "python3",
      "display_name": "Python 3"
    },
    "language_info": {
      "name": "python"
    }
  },
  "cells": [
    {
      "cell_type": "markdown",
      "metadata": {
        "id": "view-in-github",
        "colab_type": "text"
      },
      "source": [
        "<a href=\"https://colab.research.google.com/github/Dilipyadav717/CaseStudy5/blob/main/tic_tac_toe_202400290310064.ipynb\" target=\"_parent\"><img src=\"https://colab.research.google.com/assets/colab-badge.svg\" alt=\"Open In Colab\"/></a>"
      ]
    },
    {
      "cell_type": "code",
      "execution_count": 1,
      "metadata": {
        "colab": {
          "base_uri": "https://localhost:8080/"
        },
        "id": "aUZJHEbp7I62",
        "outputId": "1eeebbec-cd99-4611-8f99-081601b838ee"
      },
      "outputs": [
        {
          "output_type": "stream",
          "name": "stdout",
          "text": [
            " 1 | 2 | 3 \n",
            "-----------\n",
            " 4 | 5 | 6 \n",
            "-----------\n",
            " 7 | 8 | 9 \n",
            "Player X, pick a spot (1-9): 1\n",
            " X | 2 | 3 \n",
            "-----------\n",
            " 4 | 5 | 6 \n",
            "-----------\n",
            " 7 | 8 | 9 \n",
            "Player O, pick a spot (1-9): 2\n",
            " X | O | 3 \n",
            "-----------\n",
            " 4 | 5 | 6 \n",
            "-----------\n",
            " 7 | 8 | 9 \n",
            "Player X, pick a spot (1-9): 7\n",
            " X | O | 3 \n",
            "-----------\n",
            " 4 | 5 | 6 \n",
            "-----------\n",
            " X | 8 | 9 \n",
            "Player O, pick a spot (1-9): 4\n",
            " X | O | 3 \n",
            "-----------\n",
            " O | 5 | 6 \n",
            "-----------\n",
            " X | 8 | 9 \n",
            "Player X, pick a spot (1-9): 9\n",
            " X | O | 3 \n",
            "-----------\n",
            " O | 5 | 6 \n",
            "-----------\n",
            " X | 8 | X \n",
            "Player O, pick a spot (1-9): 5\n",
            " X | O | 3 \n",
            "-----------\n",
            " O | O | 6 \n",
            "-----------\n",
            " X | 8 | X \n",
            "Player X, pick a spot (1-9): 8\n",
            " X | O | 3 \n",
            "-----------\n",
            " O | O | 6 \n",
            "-----------\n",
            " X | X | X \n",
            "Player X wins!\n"
          ]
        }
      ],
      "source": [
        "# Dilip yadav\n",
        "# 202400290310064\n",
        "# ECE/A\n",
        "board = [1, 2, 3, 4, 5, 6, 7, 8, 9]\n",
        "player = 'X'\n",
        "\n",
        "def show_board():\n",
        "    print(f\" {board[0]} | {board[1]} | {board[2]} \")\n",
        "    print(\"-----------\")\n",
        "    print(f\" {board[3]} | {board[4]} | {board[5]} \")\n",
        "    print(\"-----------\")\n",
        "    print(f\" {board[6]} | {board[7]} | {board[8]} \")\n",
        "\n",
        "def check_win():\n",
        "\n",
        "    wins = [[0,1,2], [3,4,5], [6,7,8], [0,3,6], [1,4,7], [2,5,8], [0,4,8], [2,4,6]]\n",
        "    for w in wins:\n",
        "        if board[w[0]] == board[w[1]] == board[w[2]]:\n",
        "            return True\n",
        "    return False\n",
        "\n",
        "def check_tie():\n",
        "    return all(x in ['X', 'O'] for x in board)\n",
        "\n",
        "\n",
        "for turn in range(9):\n",
        "    show_board()\n",
        "    move = int(input(f\"Player {player}, pick a spot (1-9): \")) - 1\n",
        "\n",
        "    if board[move] not in ['X', 'O']:\n",
        "        board[move] = player\n",
        "\n",
        "        if check_win():\n",
        "            show_board()\n",
        "            print(f\"Player {player} wins!\")\n",
        "            break\n",
        "\n",
        "        if check_tie():\n",
        "            show_board()\n",
        "            print(\"It's a tie!\")\n",
        "            break\n",
        "\n",
        "        player = 'O' if player == 'X' else 'X'\n",
        "    else:\n",
        "        print(\"Spot taken! Try again.\")\n",
        "        turn -= 1"
      ]
    }
  ]
}